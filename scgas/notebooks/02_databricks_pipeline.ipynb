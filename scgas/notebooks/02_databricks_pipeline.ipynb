{
 "cells": [
  {
   "cell_type": "code",
   "execution_count": 2,
   "id": "6ccb08fd",
   "metadata": {},
   "outputs": [
    {
     "data": {
      "text/plain": [
       "[08/25/25 06:27:51] INFO     Using                                                                  __init__.py:270\n",
       "                             '/local_disk0/.ephemeral_nfs/cluster_libraries/python/lib/python3.12/s                \n",
       "                             ite-packages/kedro/framework/project/rich_logging.yml' as logging                     \n",
       "                             configuration."
      ]
     },
     "metadata": {},
     "output_type": "display_data"
    }
   ],
   "source": [
    "%load_ext kedro.ipython"
   ]
  },
  {
   "cell_type": "code",
   "execution_count": 4,
   "id": "be4ad41f",
   "metadata": {},
   "outputs": [
    {
     "data": {
      "text/html": [
       "<span class='ansi-red-fg'>NameError</span>: name 'session' is not defined"
      ]
     },
     "metadata": {},
     "output_type": "display_data"
    },
    {
     "ename": "Error",
     "evalue": "\u001b[0;31m---------------------------------------------------------------------------\u001b[0m\n\u001b[0;31mNameError\u001b[0m                                 Traceback (most recent call last)\nFile \u001b[0;32m~/.ipykernel/4495/command--1-833844929:1\u001b[0m\n\u001b[0;32m----> 1\u001b[0m session\u001b[38;5;241m.\u001b[39mrun()\n\n\u001b[0;31mNameError\u001b[0m: name 'session' is not defined",
     "output_type": "error",
     "traceback": [
      "Error: \u001b[0;31m---------------------------------------------------------------------------\u001b[0m\n",
      "\u001b[0;31mNameError\u001b[0m                                 Traceback (most recent call last)\n",
      "File \u001b[0;32m~/.ipykernel/4495/command--1-833844929:1\u001b[0m\n",
      "\u001b[0;32m----> 1\u001b[0m session\u001b[38;5;241m.\u001b[39mrun()\n",
      "\n",
      "\u001b[0;31mNameError\u001b[0m: name 'session' is not defined\n",
      "    at p._doExecution (/Users/amaro/.cursor/extensions/paiqo.databricks-vscode-2.8.0-universal/dist/node/extension.js:2:68482)\n",
      "    at processTicksAndRejections (node:internal/process/task_queues:95:5)\n",
      "    at p.executeHandler (/Users/amaro/.cursor/extensions/paiqo.databricks-vscode-2.8.0-universal/dist/node/extension.js:2:56692)\n",
      "    at fhe.$executeCells (file:///Applications/Cursor.app/Contents/Resources/app/out/vs/workbench/api/node/extensionHostProcess.js:198:39239)"
     ]
    }
   ],
   "source": [
    "session.run()"
   ]
  }
 ],
 "metadata": {
  "language_info": {
   "name": "python"
  }
 },
 "nbformat": 4,
 "nbformat_minor": 5
}
